{
 "cells": [
  {
   "cell_type": "code",
   "execution_count": 1,
   "metadata": {},
   "outputs": [],
   "source": [
    "import pandas as pd"
   ]
  },
  {
   "cell_type": "code",
   "execution_count": 2,
   "metadata": {},
   "outputs": [],
   "source": [
    "senadores = pd.read_csv('BQ/senado/senadores_leg56.csv')\n",
    "senadores = senadores[(senadores['legislatura'] == 56)&(senadores['ds_cargo']=='SENADOR')]\n",
    "propo = pd.read_csv('BQ/senado/proposicoes.csv')\n",
    "materia = pd.read_csv('BQ/senado/tramitações_senado.csv')"
   ]
  },
  {
   "cell_type": "code",
   "execution_count": 3,
   "metadata": {},
   "outputs": [],
   "source": [
    "propo_filter = propo.merge(senadores, left_on='Codigo_Parlamentar', right_on='id_parlamentar')"
   ]
  },
  {
   "cell_type": "code",
   "execution_count": 4,
   "metadata": {},
   "outputs": [
    {
     "data": {
      "text/plain": [
       "55"
      ]
     },
     "execution_count": 4,
     "metadata": {},
     "output_type": "execute_result"
    }
   ],
   "source": [
    "len(propo_filter.id_parlamentar.unique())"
   ]
  },
  {
   "cell_type": "code",
   "execution_count": 5,
   "metadata": {},
   "outputs": [
    {
     "data": {
      "text/plain": [
       "55"
      ]
     },
     "execution_count": 5,
     "metadata": {},
     "output_type": "execute_result"
    }
   ],
   "source": [
    "len(senadores.id_parlamentar.unique())"
   ]
  },
  {
   "cell_type": "code",
   "execution_count": 6,
   "metadata": {},
   "outputs": [],
   "source": [
    "propo_filter = propo_filter.merge(materia, left_on='Codigo_Materia', right_on='id', how='left')"
   ]
  },
  {
   "cell_type": "code",
   "execution_count": 7,
   "metadata": {},
   "outputs": [
    {
     "data": {
      "text/plain": [
       "Index(['Codigo_Materia', 'Nome_Autor', 'Num_Order_Autor', 'Sigla_Tipo_Autor',\n",
       "       'Codigo_Parlamentar', 'Nome_Parlamentar', 'Nome_Completo',\n",
       "       'Sigla_Partido', 'Uf_Autor', 'Sexo', 'Forma_Tratamento', 'Email',\n",
       "       'Url_Foto', 'Url_Site', 'id_parlamentar', 'nome_parlamentar',\n",
       "       'nome_completo_parlamentar', 'uf', 'sigla_partido', 'legislatura',\n",
       "       'ds_cargo', 'sq_candidato', 'sigla_partido_eleicao', 'sg_uf',\n",
       "       'nome_candidato', 'nome_urna_candidato', 'cpf_candidato_str',\n",
       "       'titulo_eleitoral_candidato_str', 'casa', 'id', 'descricao_tipo',\n",
       "       'numero', 'ano', 'sequencia', 'f6_nome_orgao', 'descricao_situacao',\n",
       "       'nome_autor', 'sigla_partido_antiga', 'sigla_partido_autor',\n",
       "       'data_tramitacao_real'],\n",
       "      dtype='object')"
      ]
     },
     "execution_count": 7,
     "metadata": {},
     "output_type": "execute_result"
    }
   ],
   "source": [
    "propo_filter.columns"
   ]
  },
  {
   "cell_type": "code",
   "execution_count": 8,
   "metadata": {},
   "outputs": [],
   "source": [
    "propo_filter = propo_filter[['Nome_Autor','descricao_tipo','ds_cargo']]"
   ]
  },
  {
   "cell_type": "code",
   "execution_count": 9,
   "metadata": {},
   "outputs": [
    {
     "data": {
      "text/html": [
       "<div>\n",
       "<style scoped>\n",
       "    .dataframe tbody tr th:only-of-type {\n",
       "        vertical-align: middle;\n",
       "    }\n",
       "\n",
       "    .dataframe tbody tr th {\n",
       "        vertical-align: top;\n",
       "    }\n",
       "\n",
       "    .dataframe thead th {\n",
       "        text-align: right;\n",
       "    }\n",
       "</style>\n",
       "<table border=\"1\" class=\"dataframe\">\n",
       "  <thead>\n",
       "    <tr style=\"text-align: right;\">\n",
       "      <th></th>\n",
       "      <th>Nome_Autor</th>\n",
       "      <th>descricao_tipo</th>\n",
       "      <th>ds_cargo</th>\n",
       "    </tr>\n",
       "  </thead>\n",
       "  <tbody>\n",
       "    <tr>\n",
       "      <th>0</th>\n",
       "      <td>Jorginho Mello</td>\n",
       "      <td>NaN</td>\n",
       "      <td>SENADOR</td>\n",
       "    </tr>\n",
       "    <tr>\n",
       "      <th>1</th>\n",
       "      <td>Jorginho Mello</td>\n",
       "      <td>REQUERIMENTO</td>\n",
       "      <td>SENADOR</td>\n",
       "    </tr>\n",
       "    <tr>\n",
       "      <th>2</th>\n",
       "      <td>Jorginho Mello</td>\n",
       "      <td>NaN</td>\n",
       "      <td>SENADOR</td>\n",
       "    </tr>\n",
       "    <tr>\n",
       "      <th>3</th>\n",
       "      <td>Jorginho Mello</td>\n",
       "      <td>NaN</td>\n",
       "      <td>SENADOR</td>\n",
       "    </tr>\n",
       "    <tr>\n",
       "      <th>4</th>\n",
       "      <td>Jorginho Mello</td>\n",
       "      <td>PROJETO DE LEI</td>\n",
       "      <td>SENADOR</td>\n",
       "    </tr>\n",
       "  </tbody>\n",
       "</table>\n",
       "</div>"
      ],
      "text/plain": [
       "       Nome_Autor  descricao_tipo ds_cargo\n",
       "0  Jorginho Mello             NaN  SENADOR\n",
       "1  Jorginho Mello    REQUERIMENTO  SENADOR\n",
       "2  Jorginho Mello             NaN  SENADOR\n",
       "3  Jorginho Mello             NaN  SENADOR\n",
       "4  Jorginho Mello  PROJETO DE LEI  SENADOR"
      ]
     },
     "execution_count": 9,
     "metadata": {},
     "output_type": "execute_result"
    }
   ],
   "source": [
    "propo_filter.head()"
   ]
  },
  {
   "cell_type": "code",
   "execution_count": 10,
   "metadata": {},
   "outputs": [],
   "source": [
    "propo_filter = propo_filter.groupby(['Nome_Autor','descricao_tipo'], as_index=False).size()"
   ]
  },
  {
   "cell_type": "code",
   "execution_count": 11,
   "metadata": {},
   "outputs": [],
   "source": [
    "topicos_de_interesse = [\n",
    "    'Projeto de Lei','Projeto de Lei Complementar', 'Projeto de Resolução', 'Proposta de Emenda à Constituição',\n",
    "    'Projeto de Decreto Legislativo de Medida Provisória', 'Projeto de Decreto Legislativo de Sustação de Atos Normativos do Poder Executivo',\n",
    "    'Requerimento de Audiência Pública', 'Requerimento de Convocação de Ministro de Estado no Plenário','Requerimento de Informação',\n",
    "    'Indicação','Parecer do Relator','Emenda de Relator', 'Emenda de Plenário a Projeto com Urgência', 'Emenda de Plenário à MPV (Ato Conjunto 1/20)'\n",
    "    ,'Emenda de Plenário', 'Emenda de Redação em Plenário', 'Emenda na Comissão', 'Emenda à PEC', 'Substitutivo'\n",
    "                       ]"
   ]
  },
  {
   "cell_type": "code",
   "execution_count": 12,
   "metadata": {},
   "outputs": [],
   "source": [
    "def get_mean_by_topic(df, topic):\n",
    "    return (df[df.descricao_tipo==topic]['size'].sum()) / len(senadores.id_parlamentar.unique())\n",
    "\n",
    "def get_median_by_topic(df, topic):\n",
    "    return df[df.descricao_tipo==topic]['size'].median()\n",
    "\n",
    "def get_df_parlamentar(df, nome):\n",
    "    sen = df[df.Nome_Autor.str.contains(nome, regex=True)]\n",
    "    sen['media_senado'] = sen.descricao_tipo.apply(lambda x: get_mean_by_topic(df, x))\n",
    "    sen['mediana_senado'] = sen.descricao_tipo.apply(lambda x: get_median_by_topic(df, x))\n",
    "    return sen"
   ]
  },
  {
   "cell_type": "code",
   "execution_count": 16,
   "metadata": {},
   "outputs": [
    {
     "data": {
      "text/plain": [
       "array(['PROJETO DE DECRETO LEGISLATIVO', 'PROJETO DE LEI',\n",
       "       'PROJETO DE LEI COMPLEMENTAR', 'PROPOSTA DE EMENDA À CONSTITUIÇÃO',\n",
       "       'RECURSO (SF)', 'REQUERIMENTO', 'REQUERIMENTO (CN)',\n",
       "       'PROJETO DE RESOLUÇÃO DO SENADO', 'INDICAÇÃO',\n",
       "       'PROPOSTA DE FISCALIZAÇÃO E CONTROLE',\n",
       "       'PROJETO DE RESOLUÇÃO DO CONGRESSO NACIONAL'], dtype=object)"
      ]
     },
     "execution_count": 16,
     "metadata": {},
     "output_type": "execute_result"
    }
   ],
   "source": [
    "propo_filter.descricao_tipo.unique()"
   ]
  },
  {
   "cell_type": "code",
   "execution_count": 13,
   "metadata": {},
   "outputs": [
    {
     "name": "stderr",
     "output_type": "stream",
     "text": [
      "/tmp/ipykernel_30335/4173387890.py:9: SettingWithCopyWarning: \n",
      "A value is trying to be set on a copy of a slice from a DataFrame.\n",
      "Try using .loc[row_indexer,col_indexer] = value instead\n",
      "\n",
      "See the caveats in the documentation: https://pandas.pydata.org/pandas-docs/stable/user_guide/indexing.html#returning-a-view-versus-a-copy\n",
      "  sen['media_senado'] = sen.descricao_tipo.apply(lambda x: get_mean_by_topic(df, x))\n",
      "/tmp/ipykernel_30335/4173387890.py:10: SettingWithCopyWarning: \n",
      "A value is trying to be set on a copy of a slice from a DataFrame.\n",
      "Try using .loc[row_indexer,col_indexer] = value instead\n",
      "\n",
      "See the caveats in the documentation: https://pandas.pydata.org/pandas-docs/stable/user_guide/indexing.html#returning-a-view-versus-a-copy\n",
      "  sen['mediana_senado'] = sen.descricao_tipo.apply(lambda x: get_median_by_topic(df, x))\n"
     ]
    }
   ],
   "source": [
    "alessandro = get_df_parlamentar(propo_filter, 'Alessandro')"
   ]
  },
  {
   "cell_type": "code",
   "execution_count": 14,
   "metadata": {},
   "outputs": [],
   "source": [
    "def save_df(df, proponente=False):\n",
    "    nome = '_'.join(df.Nome_Autor.iloc[0].split(' '))\n",
    "    df['media_senado'] = df['media_senado'].round()\n",
    "    df['mediana_senado'] = df['mediana_senado'].round()\n",
    "    if proponente:\n",
    "        df.to_excel(f'resultados/Senado/{nome}_proponentes.xlsx')\n",
    "        return\n",
    "    df.to_excel(f'resultados/Senado/{nome}_autores.xlsx')"
   ]
  },
  {
   "cell_type": "code",
   "execution_count": 15,
   "metadata": {},
   "outputs": [
    {
     "name": "stderr",
     "output_type": "stream",
     "text": [
      "/tmp/ipykernel_30335/253322932.py:3: SettingWithCopyWarning: \n",
      "A value is trying to be set on a copy of a slice from a DataFrame.\n",
      "Try using .loc[row_indexer,col_indexer] = value instead\n",
      "\n",
      "See the caveats in the documentation: https://pandas.pydata.org/pandas-docs/stable/user_guide/indexing.html#returning-a-view-versus-a-copy\n",
      "  df['media_senado'] = df['media_senado'].round()\n",
      "/tmp/ipykernel_30335/253322932.py:4: SettingWithCopyWarning: \n",
      "A value is trying to be set on a copy of a slice from a DataFrame.\n",
      "Try using .loc[row_indexer,col_indexer] = value instead\n",
      "\n",
      "See the caveats in the documentation: https://pandas.pydata.org/pandas-docs/stable/user_guide/indexing.html#returning-a-view-versus-a-copy\n",
      "  df['mediana_senado'] = df['mediana_senado'].round()\n"
     ]
    }
   ],
   "source": [
    "save_df(alessandro)"
   ]
  }
 ],
 "metadata": {
  "kernelspec": {
   "display_name": "Python 3.9.7 ('scraping')",
   "language": "python",
   "name": "python3"
  },
  "language_info": {
   "codemirror_mode": {
    "name": "ipython",
    "version": 3
   },
   "file_extension": ".py",
   "mimetype": "text/x-python",
   "name": "python",
   "nbconvert_exporter": "python",
   "pygments_lexer": "ipython3",
   "version": "3.9.7"
  },
  "orig_nbformat": 4,
  "vscode": {
   "interpreter": {
    "hash": "0b57a106df503026757037a3564c5b06bb9bd0ebd4985fd2fe126eeda7bdee66"
   }
  }
 },
 "nbformat": 4,
 "nbformat_minor": 2
}
