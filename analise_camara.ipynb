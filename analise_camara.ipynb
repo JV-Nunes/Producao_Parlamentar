{
 "cells": [
  {
   "cell_type": "code",
   "execution_count": 149,
   "metadata": {},
   "outputs": [],
   "source": [
    "import pandas as pd\n",
    "import numpy as np"
   ]
  },
  {
   "cell_type": "markdown",
   "metadata": {},
   "source": [
    "# Dados Abertos"
   ]
  },
  {
   "cell_type": "code",
   "execution_count": 3,
   "metadata": {},
   "outputs": [],
   "source": [
    "import os"
   ]
  },
  {
   "cell_type": "code",
   "execution_count": 4,
   "metadata": {},
   "outputs": [],
   "source": [
    "def load_data(path):\n",
    "    dfs = []\n",
    "    for data in os.listdir(path):\n",
    "        dfs.append(pd.read_csv(os.path.join(path, data), sep=';'))\n",
    "    concat = pd.concat(dfs)\n",
    "    return concat\n",
    "        "
   ]
  },
  {
   "cell_type": "code",
   "execution_count": 5,
   "metadata": {},
   "outputs": [
    {
     "name": "stderr",
     "output_type": "stream",
     "text": [
      "/tmp/ipykernel_32064/142014999.py:4: DtypeWarning: Columns (14) have mixed types. Specify dtype option on import or set low_memory=False.\n",
      "  dfs.append(pd.read_csv(os.path.join(path, data), sep=';'))\n",
      "/tmp/ipykernel_32064/142014999.py:4: DtypeWarning: Columns (14) have mixed types. Specify dtype option on import or set low_memory=False.\n",
      "  dfs.append(pd.read_csv(os.path.join(path, data), sep=';'))\n"
     ]
    }
   ],
   "source": [
    "propo = load_data('dados/proposicoes')\n",
    "temas = load_data('dados/proposicoes_temas')\n",
    "autores = load_data('dados/proposicoes_autores')"
   ]
  },
  {
   "cell_type": "code",
   "execution_count": 7,
   "metadata": {},
   "outputs": [],
   "source": [
    "propo_filter = propo[['id','ano','descricaoTipo','ementa','keywords','ultimoStatus_idTipoTramitacao','ultimoStatus_descricaoSituacao']]"
   ]
  },
  {
   "cell_type": "code",
   "execution_count": 8,
   "metadata": {},
   "outputs": [],
   "source": [
    "autores = autores[['idProposicao', 'idDeputadoAutor', 'codTipoAutor', 'tipoAutor', 'nomeAutor', 'siglaPartidoAutor', 'ordemAssinatura', 'proponente']]"
   ]
  },
  {
   "cell_type": "code",
   "execution_count": 9,
   "metadata": {},
   "outputs": [],
   "source": [
    "agregado = propo_filter.merge(autores, left_on='id', right_on='idProposicao')"
   ]
  },
  {
   "cell_type": "code",
   "execution_count": 10,
   "metadata": {},
   "outputs": [],
   "source": [
    "agregado['idDeputadoAutor'] = agregado['idDeputadoAutor'].fillna(-1).astype(int)"
   ]
  },
  {
   "cell_type": "code",
   "execution_count": 11,
   "metadata": {},
   "outputs": [],
   "source": [
    "agregado_dep = agregado[(agregado['codTipoAutor']==10000) | (agregado['codTipoAutor']==20000) | (agregado['nomeAutor'].str.contains('Senado Federal -', regex=True))]"
   ]
  },
  {
   "cell_type": "code",
   "execution_count": 12,
   "metadata": {},
   "outputs": [
    {
     "name": "stdout",
     "output_type": "stream",
     "text": [
      "Proposições totais: 279683 \n",
      "Proposições de deputados e senadores: 264783\n"
     ]
    }
   ],
   "source": [
    "print('Proposições totais:', len(agregado),'\\nProposições de deputados e senadores:', len(agregado_dep))"
   ]
  },
  {
   "cell_type": "code",
   "execution_count": 101,
   "metadata": {},
   "outputs": [],
   "source": [
    "proponentes = agregado_dep[agregado_dep['proponente']==1]"
   ]
  },
  {
   "cell_type": "code",
   "execution_count": 185,
   "metadata": {},
   "outputs": [],
   "source": [
    "contagem_parlamentares = agregado_dep.groupby(['idDeputadoAutor','nomeAutor','descricaoTipo'], as_index=False).size()\n",
    "contagem_parlamentares_proponentes = proponentes.groupby(['idDeputadoAutor','nomeAutor','descricaoTipo'], as_index=False).size()"
   ]
  },
  {
   "cell_type": "code",
   "execution_count": 166,
   "metadata": {},
   "outputs": [],
   "source": [
    "deputados = pd.read_csv('BQ/camara/deputados_legislatura_56.csv')"
   ]
  },
  {
   "cell_type": "code",
   "execution_count": 179,
   "metadata": {},
   "outputs": [],
   "source": [
    "def parlamentares_ativos(df):\n",
    "    result = df[(df['idDeputadoAutor'].isin(deputados['id']))\n",
    "                                |\n",
    "                (df['idDeputadoAutor']==-1)]\n",
    "    return result"
   ]
  },
  {
   "cell_type": "code",
   "execution_count": 198,
   "metadata": {},
   "outputs": [],
   "source": [
    "def add_parlamentar_sem_proposicao(df):\n",
    "    # adicionando parlamentares que não tem proposição\n",
    "    add_deputados = deputados[-deputados['id'].isin(df['idDeputadoAutor'])][['id', 'nome_parlamentar']]\n",
    "    add_deputados.columns = ['idDeputadoAutor', 'nomeAutor']\n",
    "    # criando dataframe com linhas repetidas contendo os tipos de proposição para cada parlamentar que não tem proposição\n",
    "    dummy_df = pd.concat([pd.DataFrame({'descricaoTipo':df.descricaoTipo.unique()})]*len(add_deputados), ignore_index=True)\n",
    "    # repete cada linha do dataframe add_deputados para cada tipo de proposição\n",
    "    add_deputados= pd.DataFrame(np.repeat(add_deputados.values, len(df.descricaoTipo.unique()), axis=0), columns=add_deputados.columns)\n",
    "    add_deputados['descricaoTipo'] = dummy_df['descricaoTipo']\n",
    "    add_deputados['size'] = 0\n",
    "    return pd.concat([df, add_deputados])"
   ]
  },
  {
   "cell_type": "code",
   "execution_count": 190,
   "metadata": {},
   "outputs": [],
   "source": [
    "selecao_contagem_parlamentares = parlamentares_ativos(contagem_parlamentares)\n",
    "selecao_contagem_parlamentares_proponentes = parlamentares_ativos(contagem_parlamentares_proponentes)"
   ]
  },
  {
   "cell_type": "code",
   "execution_count": 203,
   "metadata": {},
   "outputs": [],
   "source": [
    "contagem_parlamentares = add_parlamentar_sem_proposicao(selecao_contagem_parlamentares)\n",
    "contagem_parlamentares_proponentes = add_parlamentar_sem_proposicao(selecao_contagem_parlamentares_proponentes)"
   ]
  },
  {
   "cell_type": "code",
   "execution_count": 204,
   "metadata": {},
   "outputs": [],
   "source": [
    "topicos_de_interesse = [\n",
    "    'Projeto de Lei','Projeto de Lei Complementar', 'Projeto de Resolução', 'Proposta de Emenda à Constituição',\n",
    "    'Projeto de Decreto Legislativo de Medida Provisória', 'Projeto de Decreto Legislativo de Sustação de Atos Normativos do Poder Executivo',\n",
    "    'Requerimento de Audiência Pública', 'Requerimento de Convocação de Ministro de Estado no Plenário','Requerimento de Informação',\n",
    "    'Indicação','Parecer do Relator','Emenda de Relator', 'Emenda de Plenário a Projeto com Urgência', 'Emenda de Plenário à MPV (Ato Conjunto 1/20)'\n",
    "    ,'Emenda de Plenário', 'Emenda de Redação em Plenário', 'Emenda na Comissão', 'Emenda à PEC', 'Substitutivo'\n",
    "                       ]"
   ]
  },
  {
   "cell_type": "code",
   "execution_count": 205,
   "metadata": {},
   "outputs": [],
   "source": [
    "def get_mean_by_topic(df, topic):\n",
    "    return df[df.descricaoTipo==topic]['size'].mean()\n",
    "\n",
    "def get_median_by_topic(df, topic):\n",
    "    return df[df.descricaoTipo==topic]['size'].median()\n",
    "\n",
    "def get_df_parlamentar(df, nome):\n",
    "    dep = df[df.nomeAutor.str.contains(nome, regex=True)]\n",
    "    dep = dep[dep['descricaoTipo'].isin(topicos_de_interesse)]\n",
    "    dep['media_congresso'] = dep.descricaoTipo.apply(lambda x: get_mean_by_topic(df, x))\n",
    "    dep['mediana_congresso'] = dep.descricaoTipo.apply(lambda x: get_median_by_topic(df, x))\n",
    "    return dep"
   ]
  },
  {
   "cell_type": "code",
   "execution_count": 40,
   "metadata": {},
   "outputs": [],
   "source": [
    "pd.set_option('display.max_colwidth', None)"
   ]
  },
  {
   "cell_type": "code",
   "execution_count": 206,
   "metadata": {},
   "outputs": [],
   "source": [
    "tabata = get_df_parlamentar(contagem_parlamentares,'Tabata Amaral')\n",
    "rigoni = get_df_parlamentar(contagem_parlamentares, 'Rigoni')\n",
    "alessandro = get_df_parlamentar(contagem_parlamentares, 'Alessandro Vieira')\n",
    "tabata_proponentes = get_df_parlamentar(contagem_parlamentares_proponentes, 'Tabata Amaral')\n",
    "rigoni_proponentes = get_df_parlamentar(contagem_parlamentares_proponentes, 'Rigoni')\n",
    "alessandro_proponentes = get_df_parlamentar(contagem_parlamentares_proponentes, 'Alessandro Vieira')"
   ]
  },
  {
   "cell_type": "code",
   "execution_count": 178,
   "metadata": {},
   "outputs": [],
   "source": [
    "import seaborn as sns\n",
    "import matplotlib.pyplot as plt"
   ]
  },
  {
   "cell_type": "code",
   "execution_count": 207,
   "metadata": {},
   "outputs": [],
   "source": [
    "def save_df(df, proponente=False):\n",
    "    nome = '_'.join(df.nomeAutor.iloc[0].split(' '))\n",
    "    df['media_congresso'] = df['media_congresso'].round()\n",
    "    df['mediana_congresso'] = df['mediana_congresso'].round()\n",
    "    if proponente:\n",
    "        df.to_excel(f'resultados/{nome}_proponentes.xlsx')\n",
    "        return\n",
    "    df.to_excel(f'resultados/{nome}_autores.xlsx')"
   ]
  },
  {
   "cell_type": "code",
   "execution_count": 208,
   "metadata": {},
   "outputs": [],
   "source": [
    "save_df(tabata)\n",
    "save_df(rigoni)\n",
    "save_df(alessandro)"
   ]
  },
  {
   "cell_type": "code",
   "execution_count": 209,
   "metadata": {},
   "outputs": [],
   "source": [
    "save_df(tabata_proponentes, proponente=True)\n",
    "save_df(rigoni_proponentes, proponente=True)\n",
    "save_df(alessandro_proponentes, proponente=True)"
   ]
  },
  {
   "cell_type": "code",
   "execution_count": 229,
   "metadata": {},
   "outputs": [],
   "source": [
    "\n",
    "# for tipo in tabata.descricaoTipo:\n",
    "#     f, ax = plt.subplots(figsize=(12, 8))\n",
    "#     sns.set_theme(style=\"whitegrid\")\n",
    "#     sns.set_color_codes(\"pastel\")\n",
    "#     sns.barplot (data=tabata[tabata.descricaoTipo==tipo][['size','media_congresso','mediana_congresso']], palette='Blues_d', color='b')\n",
    "#     plt.legend([f'{tabata[tabata.descricaoTipo==tipo].nomeAutor.iloc[0]}', 'Média Congresso', 'Mediana Congresso'])\n",
    "#     plt.title(f'Tabata Amaral: {tipo} x Congresso')\n",
    "#     plt.show()"
   ]
  },
  {
   "cell_type": "markdown",
   "metadata": {},
   "source": [
    "Análise:\n",
    "- Contabilizar proposições dos deputados do gabinete e comparar com restante do congresso\n",
    "- Contabilizar Requerimentos/indicações\n",
    "- Contabilizar Relatoria\n",
    "- Contabilidzar Emendas\n",
    "- Taxa de aprovação para cada ponto\n",
    "\n",
    "Anotações:\n",
    "- Investigar anos nulos (iguais a zero)\n",
    "- Investigar processo de tramitação de proposições do legislativo\n",
    "- "
   ]
  },
  {
   "cell_type": "code",
   "execution_count": 42,
   "metadata": {},
   "outputs": [
    {
     "data": {
      "text/html": [
       "<div>\n",
       "<style scoped>\n",
       "    .dataframe tbody tr th:only-of-type {\n",
       "        vertical-align: middle;\n",
       "    }\n",
       "\n",
       "    .dataframe tbody tr th {\n",
       "        vertical-align: top;\n",
       "    }\n",
       "\n",
       "    .dataframe thead th {\n",
       "        text-align: right;\n",
       "    }\n",
       "</style>\n",
       "<table border=\"1\" class=\"dataframe\">\n",
       "  <thead>\n",
       "    <tr style=\"text-align: right;\">\n",
       "      <th></th>\n",
       "      <th>idProposicao</th>\n",
       "      <th>uriProposicao</th>\n",
       "      <th>idDeputadoAutor</th>\n",
       "      <th>uriAutor</th>\n",
       "      <th>codTipoAutor</th>\n",
       "      <th>tipoAutor</th>\n",
       "      <th>nomeAutor</th>\n",
       "      <th>siglaPartidoAutor</th>\n",
       "      <th>uriPartidoAutor</th>\n",
       "      <th>siglaUFAutor</th>\n",
       "      <th>ordemAssinatura</th>\n",
       "      <th>proponente</th>\n",
       "    </tr>\n",
       "  </thead>\n",
       "  <tbody>\n",
       "    <tr>\n",
       "      <th>0</th>\n",
       "      <td>2325052</td>\n",
       "      <td>https://dadosabertos.camara.leg.br/api/v2/prop...</td>\n",
       "      <td>NaN</td>\n",
       "      <td>https://dadosabertos.camara.leg.br/api/v2/orga...</td>\n",
       "      <td>40000</td>\n",
       "      <td>Órgão do Poder Legislativo</td>\n",
       "      <td>Senado Federal - Eduardo Girão</td>\n",
       "      <td>PODEMOS</td>\n",
       "      <td>NaN</td>\n",
       "      <td>CE</td>\n",
       "      <td>1</td>\n",
       "      <td>1</td>\n",
       "    </tr>\n",
       "    <tr>\n",
       "      <th>1</th>\n",
       "      <td>2324720</td>\n",
       "      <td>https://dadosabertos.camara.leg.br/api/v2/prop...</td>\n",
       "      <td>NaN</td>\n",
       "      <td>https://dadosabertos.camara.leg.br/api/v2/orga...</td>\n",
       "      <td>40000</td>\n",
       "      <td>Órgão do Poder Legislativo</td>\n",
       "      <td>Senado Federal - Eduardo Girão</td>\n",
       "      <td>PODEMOS</td>\n",
       "      <td>NaN</td>\n",
       "      <td>CE</td>\n",
       "      <td>1</td>\n",
       "      <td>1</td>\n",
       "    </tr>\n",
       "    <tr>\n",
       "      <th>2</th>\n",
       "      <td>2323055</td>\n",
       "      <td>https://dadosabertos.camara.leg.br/api/v2/prop...</td>\n",
       "      <td>NaN</td>\n",
       "      <td>https://dadosabertos.camara.leg.br/api/v2/orga...</td>\n",
       "      <td>40000</td>\n",
       "      <td>Órgão do Poder Legislativo</td>\n",
       "      <td>Senado Federal</td>\n",
       "      <td>NaN</td>\n",
       "      <td>NaN</td>\n",
       "      <td>NaN</td>\n",
       "      <td>1</td>\n",
       "      <td>1</td>\n",
       "    </tr>\n",
       "    <tr>\n",
       "      <th>3</th>\n",
       "      <td>2319815</td>\n",
       "      <td>https://dadosabertos.camara.leg.br/api/v2/prop...</td>\n",
       "      <td>NaN</td>\n",
       "      <td>https://dadosabertos.camara.leg.br/api/v2/orga...</td>\n",
       "      <td>40000</td>\n",
       "      <td>Órgão do Poder Legislativo</td>\n",
       "      <td>Senado Federal - Jorge Kajuru</td>\n",
       "      <td>CIDADANIA</td>\n",
       "      <td>NaN</td>\n",
       "      <td>GO</td>\n",
       "      <td>1</td>\n",
       "      <td>1</td>\n",
       "    </tr>\n",
       "    <tr>\n",
       "      <th>4</th>\n",
       "      <td>2318214</td>\n",
       "      <td>https://dadosabertos.camara.leg.br/api/v2/prop...</td>\n",
       "      <td>NaN</td>\n",
       "      <td>https://dadosabertos.camara.leg.br/api/v2/orga...</td>\n",
       "      <td>40000</td>\n",
       "      <td>Órgão do Poder Legislativo</td>\n",
       "      <td>Senado Federal</td>\n",
       "      <td>NaN</td>\n",
       "      <td>NaN</td>\n",
       "      <td>NaN</td>\n",
       "      <td>1</td>\n",
       "      <td>1</td>\n",
       "    </tr>\n",
       "  </tbody>\n",
       "</table>\n",
       "</div>"
      ],
      "text/plain": [
       "   idProposicao                                      uriProposicao  \\\n",
       "0       2325052  https://dadosabertos.camara.leg.br/api/v2/prop...   \n",
       "1       2324720  https://dadosabertos.camara.leg.br/api/v2/prop...   \n",
       "2       2323055  https://dadosabertos.camara.leg.br/api/v2/prop...   \n",
       "3       2319815  https://dadosabertos.camara.leg.br/api/v2/prop...   \n",
       "4       2318214  https://dadosabertos.camara.leg.br/api/v2/prop...   \n",
       "\n",
       "   idDeputadoAutor                                           uriAutor  \\\n",
       "0              NaN  https://dadosabertos.camara.leg.br/api/v2/orga...   \n",
       "1              NaN  https://dadosabertos.camara.leg.br/api/v2/orga...   \n",
       "2              NaN  https://dadosabertos.camara.leg.br/api/v2/orga...   \n",
       "3              NaN  https://dadosabertos.camara.leg.br/api/v2/orga...   \n",
       "4              NaN  https://dadosabertos.camara.leg.br/api/v2/orga...   \n",
       "\n",
       "   codTipoAutor                   tipoAutor                       nomeAutor  \\\n",
       "0         40000  Órgão do Poder Legislativo  Senado Federal - Eduardo Girão   \n",
       "1         40000  Órgão do Poder Legislativo  Senado Federal - Eduardo Girão   \n",
       "2         40000  Órgão do Poder Legislativo                  Senado Federal   \n",
       "3         40000  Órgão do Poder Legislativo   Senado Federal - Jorge Kajuru   \n",
       "4         40000  Órgão do Poder Legislativo                  Senado Federal   \n",
       "\n",
       "  siglaPartidoAutor uriPartidoAutor siglaUFAutor  ordemAssinatura  proponente  \n",
       "0           PODEMOS             NaN           CE                1           1  \n",
       "1           PODEMOS             NaN           CE                1           1  \n",
       "2               NaN             NaN          NaN                1           1  \n",
       "3         CIDADANIA             NaN           GO                1           1  \n",
       "4               NaN             NaN          NaN                1           1  "
      ]
     },
     "execution_count": 42,
     "metadata": {},
     "output_type": "execute_result"
    }
   ],
   "source": [
    "autores.head()"
   ]
  }
 ],
 "metadata": {
  "interpreter": {
   "hash": "0b57a106df503026757037a3564c5b06bb9bd0ebd4985fd2fe126eeda7bdee66"
  },
  "kernelspec": {
   "display_name": "Python 3.9.7 ('scraping')",
   "language": "python",
   "name": "python3"
  },
  "language_info": {
   "codemirror_mode": {
    "name": "ipython",
    "version": 3
   },
   "file_extension": ".py",
   "mimetype": "text/x-python",
   "name": "python",
   "nbconvert_exporter": "python",
   "pygments_lexer": "ipython3",
   "version": "3.9.7"
  },
  "orig_nbformat": 4
 },
 "nbformat": 4,
 "nbformat_minor": 2
}
